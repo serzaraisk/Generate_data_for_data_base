{
 "cells": [
  {
   "cell_type": "code",
   "execution_count": 3,
   "metadata": {},
   "outputs": [],
   "source": [
    "# Пример кода генерации данных для импорта в БД\n",
    "import numpy as np\n",
    "import pandas as pd\n",
    "from datetime import datetime, timedelta"
   ]
  },
  {
   "cell_type": "code",
   "execution_count": 17,
   "metadata": {},
   "outputs": [],
   "source": [
    "def generate_request(request_ids):\n",
    "    request = {}\n",
    "    #check uniqueness of id\n",
    "    while True:\n",
    "        request_id = ''.join(list(np.random.choice(list(letters_and_digits), size=np.random.randint(10, 100))))\n",
    "        if request_id not in request_ids:\n",
    "            request_ids.add(request_id)\n",
    "            break           \n",
    "    request['request_id'] = request_id\n",
    "    request['status'] = np.random.choice(Status)\n",
    "    request['begin_date'] = np.random.choice(date_range).strftime(\"%Y-%m-%d\")\n",
    "    request['end_date'] = np.random.choice(date_range).strftime(\"%Y-%m-%d\")\n",
    "    request['folder_path'] = ''.join(list(np.random.choice(list(letters_and_digits), size=np.random.randint(10, 100))))\n",
    "    request['deadline'] = np.random.choice(date_range).strftime(\"%Y-%m-%d\")\n",
    "    request['Request_type'] = np.random.choice(Request_type)\n",
    "    return request\n",
    "    \n",
    "    \n",
    "def generate_process(request_id, processing_ids):\n",
    "        System_processing = {}\n",
    "        #check uniqueness of id\n",
    "        while True:\n",
    "            Processing_ID = ''.join(list(np.random.choice(list(letters_and_digits), size=np.random.randint(10, 100))))\n",
    "            if Processing_ID not in processing_ids:\n",
    "                processing_ids.add(Processing_ID)\n",
    "                break       \n",
    "        System_processing['Processing_ID'] = Processing_ID\n",
    "        System_processing['request_id'] = request_id\n",
    "        System_processing['System_name'] = ''.join(list(np.random.choice(list(letters_and_digits), size=np.random.randint(10, 100))))\n",
    "        System_processing['Status'] = np.random.choice(Status)\n",
    "        System_processing['Comment'] = ''.join(list(np.random.choice(list(letters_and_digits), size=np.random.randint(10, 100))))\n",
    "        System_processing['BeginDate'] = np.random.choice(date_range).strftime(\"%Y-%m-%d\")\n",
    "        System_processing['EndDate'] = np.random.choice(date_range).strftime(\"%Y-%m-%d\")\n",
    "        return System_processing\n",
    "    \n",
    "    \n",
    "def main():\n",
    "    requests = []\n",
    "    System_processings = []\n",
    "    request_ids = set()\n",
    "    processing_ids = set()\n",
    "\n",
    "    for i in range(requests_number):\n",
    "        request = generate_request(request_ids)\n",
    "        requests.append(request) \n",
    "        for _ in range(np.random.randint(5, 12)):\n",
    "            System_processing = generate_process(request['request_id'], processing_ids)\n",
    "            System_processings.append(System_processing)\n",
    "\n",
    "        if i % 100 == 0 and i !=0:\n",
    "            print(f'{i} requests already generated')\n",
    "    print('finished')\n",
    "    return requests, System_processings"
   ]
  },
  {
   "cell_type": "markdown",
   "metadata": {},
   "source": [
    "Requests:\n",
    "* Requests_id\n",
    "* status\n",
    "* begin_date\n",
    "* end_date\n",
    "* folder_path\n",
    "* deadline\n",
    "* Request_type\n",
    "\n",
    "System_processing:\n",
    "* Processing_ID\n",
    "* Requests_ID\n",
    "* System_name\n",
    "* Status\n",
    "* Comment\n",
    "* BeginDate\n",
    "* EndDate"
   ]
  },
  {
   "cell_type": "code",
   "execution_count": 8,
   "metadata": {},
   "outputs": [],
   "source": [
    "# inputs for generation\n",
    "ascii_letters = 'abcdefghijklmnopqrstuvwxyzABCDEFGHIJKLMNOPQRSTUVWXYZ'\n",
    "ascii_lowercase = 'abcdefghijklmnopqrstuvwxyz'\n",
    "ascii_uppercase = 'ABCDEFGHIJKLMNOPQRSTUVWXYZ'\n",
    "digits = '0123456789'\n",
    "hexdigits = '0123456789abcdefABCDEF'\n",
    "octdigits = '01234567'\n",
    "printable = '0123456789abcdefghijklmnopqrstuvwxyzABCDEFGHIJKLMNOPQRSTUVWXYZ!\"#$%&\\'()*+,-./:;<=>?@[\\\\]^_`{|}~ \\t\\n\\r\\x0b\\x0c'\n",
    "punctuation = '!\"#$%&\\'()*+,-./:;<=>?@[\\\\]^_`{|}~'\n",
    "whitespace = ' \\t\\n\\r\\x0b\\x0c'"
   ]
  },
  {
   "cell_type": "code",
   "execution_count": 9,
   "metadata": {},
   "outputs": [],
   "source": [
    "# input settings\n",
    "start_date = datetime(1985,7,1)\n",
    "end_date =  datetime(2015,7,1)\n",
    "\n",
    "letters_and_digits = ascii_letters + digits + '\\\\'\n",
    "Request_type = ['IP adress', 'Выписки по счетам', 'Выписки по картам']\n",
    "date_range = np.arange(start_date,end_date, timedelta(days=1)).astype(datetime)\n",
    "Status  = ['Succesfull', 'Failed', 'New']\n",
    "requests_number = 1000"
   ]
  },
  {
   "cell_type": "code",
   "execution_count": 18,
   "metadata": {
    "scrolled": false
   },
   "outputs": [
    {
     "name": "stdout",
     "output_type": "stream",
     "text": [
      "100 requests already generated\n",
      "200 requests already generated\n",
      "300 requests already generated\n",
      "400 requests already generated\n",
      "500 requests already generated\n",
      "600 requests already generated\n",
      "700 requests already generated\n",
      "800 requests already generated\n",
      "900 requests already generated\n"
     ]
    }
   ],
   "source": [
    "requests, System_processings = main()"
   ]
  },
  {
   "cell_type": "code",
   "execution_count": 20,
   "metadata": {},
   "outputs": [],
   "source": [
    "df_Requests = pd.DataFrame(requests)\n",
    "df_System_processings = pd.DataFrame(System_processings)\n",
    "df_Requests.to_csv('Requests.csv',index=False)\n",
    "df_System_processings.to_csv('System_processings.csv',index=False)"
   ]
  }
 ],
 "metadata": {
  "kernelspec": {
   "display_name": "Python 3",
   "language": "python",
   "name": "python3"
  },
  "language_info": {
   "codemirror_mode": {
    "name": "ipython",
    "version": 3
   },
   "file_extension": ".py",
   "mimetype": "text/x-python",
   "name": "python",
   "nbconvert_exporter": "python",
   "pygments_lexer": "ipython3",
   "version": "3.7.3"
  }
 },
 "nbformat": 4,
 "nbformat_minor": 2
}
